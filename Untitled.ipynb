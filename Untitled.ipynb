{
 "cells": [
  {
   "cell_type": "code",
   "execution_count": 5,
   "id": "6244df92",
   "metadata": {},
   "outputs": [
    {
     "name": "stdout",
     "output_type": "stream",
     "text": [
      "Hello, welcome to your online shopping portal.\n",
      "What would you like to do? Add/Remove/Cart/Quit add\n",
      "What item would you like to add to your cart? toys\n",
      "How many Toys would you like? 100\n",
      "How much does each Toys cost ? 100\n",
      "{'toys': 10000.0}\n",
      "What would you like to do? Add/Remove/Cart/Quit remove\n",
      "What item would you like to remove from your cart? toys\n",
      "What would you like to do? Add/Remove/Cart/Quit add \n",
      "What would you like to do? Add/Remove/Cart/Quit dog food\n",
      "What would you like to do? Add/Remove/Cart/Quit add\n",
      "What item would you like to add to your cart? dog food\n",
      "How many Dog Food would you like? 5\n",
      "How much does each Dog Food cost ? 5\n",
      "{'dog food': 25.0}\n",
      "What would you like to do? Add/Remove/Cart/Quit cart\n",
      "{'dog food': 25.0}\n",
      "What would you like to do? Add/Remove/Cart/Quit quit\n",
      "Are you sure you would like to end? Y/N n\n",
      "What would you like to do? Add/Remove/Cart/Quit quit\n",
      "Are you sure you would like to end? Y/N y\n",
      "Your total is: $ 25.0\n"
     ]
    },
    {
     "data": {
      "text/plain": [
       "{'dog food': 25.0}"
      ]
     },
     "execution_count": 5,
     "metadata": {},
     "output_type": "execute_result"
    }
   ],
   "source": [
    "from IPython.display import clear_output\n",
    "\n",
    "\n",
    "def run():\n",
    "    print(\"Hello, welcome to your online shopping portal.\")\n",
    "    cart = {}\n",
    "    while True:\n",
    "        response = 0\n",
    "        response = input(\"What would you like to do? Add/Remove/Cart/Quit \").lower()\n",
    "        if response == \"add\":\n",
    "            item = input(\"What item would you like to add to your cart? \").lower()\n",
    "            quantity = float(input(f\"How many {item.title()} would you like? \"))\n",
    "            price = float(input(f\"How much does each {item.title()} cost ? \"))\n",
    "            cart[item] = price * quantity\n",
    "            print(cart)\n",
    "#             clear_output()\n",
    "        elif response == \"remove\":\n",
    "            deleted_items = input(\"What item would you like to remove from your cart? \").lower()\n",
    "            del cart[item]\n",
    "        elif response == \"cart\":\n",
    "            print(cart)\n",
    "        elif response == \"quit\":\n",
    "            quit = input(\"Are you sure you would like to end? Y/N \").lower()\n",
    "            if quit == \"y\":\n",
    "                total = sum(cart.values())\n",
    "                print(\"Your total is: $\", total)\n",
    "                break       \n",
    "    return cart\n",
    "run()\n"
   ]
  },
  {
   "cell_type": "code",
   "execution_count": null,
   "id": "af68569e",
   "metadata": {},
   "outputs": [],
   "source": [
    "help(set)"
   ]
  },
  {
   "cell_type": "code",
   "execution_count": null,
   "id": "a228d643",
   "metadata": {},
   "outputs": [],
   "source": [
    "help(list)"
   ]
  },
  {
   "cell_type": "code",
   "execution_count": null,
   "id": "a6c632ce",
   "metadata": {},
   "outputs": [],
   "source": []
  }
 ],
 "metadata": {
  "kernelspec": {
   "display_name": "Python 3 (ipykernel)",
   "language": "python",
   "name": "python3"
  },
  "language_info": {
   "codemirror_mode": {
    "name": "ipython",
    "version": 3
   },
   "file_extension": ".py",
   "mimetype": "text/x-python",
   "name": "python",
   "nbconvert_exporter": "python",
   "pygments_lexer": "ipython3",
   "version": "3.9.13"
  }
 },
 "nbformat": 4,
 "nbformat_minor": 5
}
